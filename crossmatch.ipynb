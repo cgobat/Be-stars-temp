{
 "cells": [
  {
   "cell_type": "markdown",
   "metadata": {},
   "source": [
    "## Catalog cross-matching\n",
    "\n",
    "Some conventions I use:\n",
    "- The first letter of `astropy.table` object variable names are capitalized\n",
    "- First letters of `pandas.DataFrame` names are lowercase\n",
    "- CXO, CSC = Chandra X-ray Observatory, Chandra Source Catalog\n",
    "- XMM, SSC = XMM-Newton, Serendipitous Source Catalog\n",
    "- XRT, XPS = (Swift) X-ray Telescope, XRT Point Source (catalog)\n",
    "- BeSS = Be Star Spectra database"
   ]
  },
  {
   "cell_type": "code",
   "execution_count": 1,
   "metadata": {
    "tags": []
   },
   "outputs": [],
   "source": [
    "import numpy as np, pandas as pd, matplotlib.pyplot as plt, astropy.units as u, pickle, seaborn as sns, sympy\n",
    "from mpl_toolkits import mplot3d\n",
    "from scipy import stats, optimize\n",
    "from PyAstronomy import pyasl\n",
    "from astropy.io import fits, ascii as ascii_io, votable\n",
    "from astropy.coordinates import SkyCoord, Angle\n",
    "from astroquery.vizier import Vizier\n",
    "from astroquery.simbad import Simbad\n",
    "from uncertainties import AsymmetricUncertainty\n",
    "\n",
    "from tools import hms_to_dec, dms_to_dec\n",
    "\n",
    "keV = 2.418e17 # Hz"
   ]
  },
  {
   "cell_type": "code",
   "execution_count": 2,
   "metadata": {},
   "outputs": [
    {
     "data": {
      "text/plain": [
       "Index(['BeSS #', 'Name', 'RA', 'Dec', 'Vmag', 'SpecType',\n",
       "       'Simbad classification', 'Catalog memberships',\n",
       "       'Literature classification', 'Reference', 'epsi', 'sepsi', 'BP-RP',\n",
       "       'Parallax', 'Parallax_err', 'Gflux', 'Gflux_corrected', 'Gflux_err',\n",
       "       'Gmag', 'Gmag_corrected', 'Gmag_err', 'PM', 'PM_dec', 'pmdec_error',\n",
       "       'PM_RA', 'PM_RA_err', 'rgeo', 'rpgeo', 'Fluxb', 'Fluxh', 'Fluxm',\n",
       "       'Fluxs', 'Fluxu', 'Fluxw', 'HRhm', 'HRhs', 'HRms', 'NHGal', 'S_N',\n",
       "       '2CXO', '2SXPS', 'CR0', 'E_CR0', 'e_CR0', 'SwiftHR1', 'SwiftHR2', 'CR1',\n",
       "       'e_CR1', 'CR2', 'E_CR2', 'e_CR2', 'CR3', 'E_CR3', 'e_CR3', 'PcstS0',\n",
       "       'FPO0', 'FPU0', 'Gam1', 'E_Gam1', 'e_Gam1', '4XMM', 'Flux1', 'e_Flux1',\n",
       "       'Flux2', 'e_Flux2', 'Flux3', 'e_Flux3', 'Flux4', 'e_Flux4', 'Flux5',\n",
       "       'e_Flux5', 'Flux8', 'e_Flux8', 'Flux9', 'e_Flux9', 'HR1', 'e_HR1',\n",
       "       'HR2', 'e_HR2', 'HR3', 'e_HR3', 'HR4', 'e_HR4', '2MASS', 'Jmag', 'Hmag',\n",
       "       'Kmag', 'e_Jmag', 'e_Hmag', 'e_Kmag', 'WISE', 'W1mag', 'e_W1mag',\n",
       "       'W2mag', 'e_W2mag', 'W3mag', 'e_W3mag'],\n",
       "      dtype='object')"
      ]
     },
     "execution_count": 2,
     "metadata": {},
     "output_type": "execute_result"
    }
   ],
   "source": [
    "Be_xray_cat = pd.read_csv(\"BeStarXrayCatalog.csv\")\n",
    "Be_xray_cat.columns"
   ]
  },
  {
   "cell_type": "markdown",
   "metadata": {},
   "source": [
    "### Initialize ViZier query instance"
   ]
  },
  {
   "cell_type": "code",
   "execution_count": 3,
   "metadata": {
    "tags": []
   },
   "outputs": [],
   "source": [
    "v = Vizier(columns=['all', '_RAJ2000', '_DEJ2000', \"_r\"])\n",
    "v.ROW_LIMIT = -1 # no row limit\n",
    "v.TIMEOUT = 99999 # big time limit"
   ]
  },
  {
   "cell_type": "markdown",
   "metadata": {},
   "source": [
    "### Load the [Be star database](http://basebe.obspm.fr/basebe/)"
   ]
  },
  {
   "cell_type": "code",
   "execution_count": 4,
   "metadata": {
    "tags": []
   },
   "outputs": [
    {
     "name": "stdout",
     "output_type": "stream",
     "text": [
      " #    Be star    Category ...       _RAJ2000            _DEJ2000     \n",
      "                          ...         deg                 deg        \n",
      "---- ---------- --------- ... ------------------- -------------------\n",
      "   1 BD+62 2346 Classical ... 0.35291666666666666   63.50436944444444\n",
      "   2  HD 224905 Classical ...  0.4109583333333333   60.44992222222222\n",
      "   3  HD 225095 Classical ...            0.863125  55.550897222222225\n",
      "   4      2 Cet Classical ...  0.9349583333333333 -17.335991666666665\n",
      "   5     10 Cas Classical ...  1.6105833333333333   64.19616944444445\n",
      "   6 BD+59 2829 Classical ...             1.70125  60.600230555555555\n",
      "   7    BD+62 1 Classical ...  1.8881250000000003  63.080327777777775\n",
      "   8   BD+62 11 Classical ...              2.6955   63.17293611111111\n",
      "   9   V742 Cas Classical ...  2.9047916666666667   58.21182777777778\n",
      "  10   EM* AS 2 Classical ...            3.246875   66.32206388888889\n",
      " ...        ...       ... ...                 ...                 ...\n",
      "2255   V817 Cas Classical ...   356.4794166666666  54.735397222222225\n",
      "2256  HD 223044 Classical ...           356.50175   61.99101944444445\n",
      "2257  HD 223387 Classical ...  357.22766666666666   57.20959722222222\n",
      "2258   V818 Cas Classical ...  357.47133333333335   62.21409166666667\n",
      "2259 EM* AS 518 Classical ...          359.383625   72.88435833333334\n",
      "2260 BD+65 1970 Classical ...   359.3920833333333   66.43162222222222\n",
      "2261     LQ And Classical ...  359.69350000000003  46.413177777777776\n",
      "2262  HD 224544 Classical ...   359.7051666666667  32.381705555555556\n",
      "2263  HD 224599 Classical ...  359.81237500000003   60.02248055555555\n",
      "2264    eps Tuc Classical ...  359.97908333333334  -65.57713333333334\n",
      "Length = 2264 rows\n"
     ]
    }
   ],
   "source": [
    "BeSS = ascii_io.read(\"./catalogs/BeSS_catalog.csv\", format=\"csv\", header_start=0, data_start=1)\n",
    "BeSS[\"_RAJ2000\"] = [hms_to_dec(hms) for hms in BeSS[\"RA\"]]*u.degree\n",
    "BeSS[\"_DEJ2000\"] = [dms_to_dec(dms) for dms in BeSS[\"DEC\"]]*u.degree\n",
    "BeSS.pprint()"
   ]
  },
  {
   "cell_type": "markdown",
   "metadata": {},
   "source": [
    "### Crossmatch with Gaia data\n",
    "\n",
    "Create `gaia_df`, a `pandas.DataFrame` containing the single closest match (within $1^{\\prime\\prime}$) in the Gaia catalog for every entry in the BeSS database."
   ]
  },
  {
   "cell_type": "code",
   "execution_count": 202,
   "metadata": {
    "tags": []
   },
   "outputs": [],
   "source": [
    "Gaia_BeSS_1as = v.query_region(BeSS, catalog=\"I/350/gaiaedr3\", radius=\"1s\")\n",
    "Gaia_matched = Gaia_BeSS_1as[0][\"_q\",\"_r\",\"Source\",\"Plx\",\"pmRA\",\"pmDE\",\"epsi\",\"sepsi\",\"Gmag\",\"BPmag\",\"RPmag\",\"Tefftemp\"]\n",
    "\n",
    "gaia_df = Gaia_matched.to_pandas()\n",
    "for i in BeSS[\"#\"]:\n",
    "    instances = len(gaia_df[gaia_df[\"_q\"]==i])\n",
    "    if instances == 0:\n",
    "        pass\n",
    "    elif instances >= 2:\n",
    "        dupeframe = gaia_df[gaia_df[\"_q\"]==i][[\"_q\",\"_r\"]]\n",
    "        gaia_df.drop(dupeframe[dupeframe[\"_r\"]>min(dupeframe[\"_r\"])].index, inplace=True)\n",
    "\n",
    "gaia_df.dropna(axis=0, subset=[\"_r\"], inplace=True)\n",
    "F0 = 2.9979246e-5 * 3228.75 / (6217.59**2) # Jy -> erg/cm^2/s/Ang\n",
    "gaia_df[\"Gflux\"] = F0 * 10**(gaia_df[\"Gmag\"]/-2.5)\n",
    "\n",
    "assert(len(gaia_df) == len(np.unique(gaia_df[\"_q\"]))),\"Something went wrong...\""
   ]
  },
  {
   "cell_type": "code",
   "execution_count": 203,
   "metadata": {},
   "outputs": [],
   "source": [
    "gaia_dists = v.query_region(BeSS, catalog=\"I/352/gedr3dis\",radius=\"1s\")[0].to_pandas()\n",
    "gaia = pd.merge(gaia_df, gaia_dists, on=\"Source\", how=\"left\")\n",
    "gaia.drop(['_r_x', 'Source', '_q_y', '_RAJ2000', '_DEJ2000', '_r_y', 'RA_ICRS', 'DE_ICRS', 'Flag'], axis=1, inplace=True)\n",
    "gaia.rename(columns={\"_q_x\":\"_q\"}, inplace=True)"
   ]
  },
  {
   "cell_type": "markdown",
   "metadata": {
    "heading_collapsed": true
   },
   "source": [
    "#### Notes"
   ]
  },
  {
   "cell_type": "markdown",
   "metadata": {
    "hidden": true
   },
   "source": [
    "- 2CXO J210335.6+454505 with 92%/100% is a HMXB in our TD\n",
    "- 2CXO J213930.6+565910 with 83%/99% is a HMXB from Simbad, but not in our TD\n",
    "- 2CXO J112057.1-615500 with 96%/100% is a HMXB from Liu+06 in our TD\n",
    "- 2CXO J223920.8+611626 with 81%/100% is a HMXB from Liu+06 in our TD\n",
    "- 2CXO J174445.7-271344 #  not significant with 45%/70% is a HMXB in our TD, but a Be Star in Simbad\n",
    "- 2CXO J024031.6+611345 #  not significant with 58%/95% is a HMXB from Liu+06\n",
    "- 2CXO J113106.9-625648 #  not significant with 36%/35% is not in our TD, is a HMXB from Simbad\n",
    "- 2CXO J130247.6-635008 #  not significant with 53%/56% is not in our TD, is a HMXB from Simbad, \n",
    "- 2CXO J134632.5-625523 #  not significant with 44%/47% is not in our TD, is a Be Star from Simbad"
   ]
  },
  {
   "cell_type": "markdown",
   "metadata": {},
   "source": [
    "### HMXB crossmatch"
   ]
  },
  {
   "cell_type": "code",
   "execution_count": 7,
   "metadata": {},
   "outputs": [],
   "source": [
    "HMXBs_BeSS_1as = v.query_region(BeSS, catalog=\"J/A+A/455/1165/table1\", radius=\"1s\")"
   ]
  },
  {
   "cell_type": "markdown",
   "metadata": {},
   "source": [
    "### XMM, Chandra, and Swift/XRT catalogs\n",
    "\n",
    "| Band      | Energy bin range |\n",
    "|-----------|------------------|\n",
    "| XMM Flux1 | 0.2 - 0.5 keV    |\n",
    "| XMM Flux2 | 0.5 - 1.0 keV    |\n",
    "| XMM Flux3 | 1.0 - 2.0 keV    |\n",
    "| XMM Flux4 | 2.0 - 4.5 keV    |\n",
    "| XMM Flux5 | 4.5 - 12.0 keV   |\n",
    "| XMM Flux8 | 0.2 - 12.0 keV   |\n",
    "| XMM Flux9 | 0.5 - 4.5 keV    |\n",
    "| CXO Fluxu | 0.2 - 0.5 keV    |\n",
    "| CXO Fluxs | 0.5 - 1.2 keV    |\n",
    "| CXO Fluxm | 1.2 - 2.0 keV    |\n",
    "| CXO Fluxh | 2.0 - 7.0 keV    |\n",
    "| CXO Fluxb | 0.5 - 7.0 keV    |\n",
    "| XRT Soft  | 0.3 - 1.0 keV    |\n",
    "| XRT Med   | 1.0 - 2.0 keV    |\n",
    "| XRT Hard  | 2.0 - 10.0 keV   |\n",
    "\n",
    "Load the full catalogs from locally stored copies. Crossmatch from vizier remotely."
   ]
  },
  {
   "cell_type": "code",
   "execution_count": 204,
   "metadata": {
    "tags": []
   },
   "outputs": [
    {
     "name": "stdout",
     "output_type": "stream",
     "text": [
      "Successfully matched BeSS with IX/59/xmm4dr9s\n",
      "Successfully matched BeSS with IX/57/csc2master\n",
      "Successfully matched BeSS with IX/58/2sxpscle\n"
     ]
    }
   ],
   "source": [
    "cat_ids = [\"IX/59/xmm4dr9s\",\"IX/57/csc2master\",\"IX/58/2sxpscle\"]\n",
    "Xmatch = [None, None, None]\n",
    "radii = [\"2s\",\"1s\",\"5s\"]\n",
    "for i in range(len(cat_ids)):\n",
    "    Xmatch[i] = v.query_region(BeSS, catalog=cat_ids[i], radius=radii[i])\n",
    "    print(\"Successfully matched BeSS with\",cat_ids[i])\n",
    "[XMM_xmatch, CSC_xmatch, XRT_xmatch] = Xmatch"
   ]
  },
  {
   "cell_type": "code",
   "execution_count": 205,
   "metadata": {},
   "outputs": [],
   "source": [
    "Chandra_sources = CSC_xmatch[0][\"_q\",\"_2CXO\",'Fluxb', 'Fluxh', 'Fluxm',\n",
    "       'Fluxs', 'Fluxu', 'Fluxw', 'HRhm', 'HRhs', 'HRms', 'GamPL', 'NHPL']\n",
    "chandra_bands = {\"b\":(0.5,7), \"h\":(2,7), \"m\":(1.2,2), \"s\":(0.5,1.2), \"u\":(0.2,0.5)}\n",
    "\n",
    "XMM_sources = XMM_xmatch[0][\"_q\",\"_4XMM\",'Flux1', 'e_Flux1',\n",
    "       'Flux2', 'e_Flux2', 'Flux3', 'e_Flux3', 'Flux4', 'e_Flux4', 'Flux5',\n",
    "       'e_Flux5', 'Flux8', 'e_Flux8', 'Flux9', 'e_Flux9', 'HR1', 'e_HR1',\n",
    "       'HR2', 'e_HR2', 'HR3', 'e_HR3', 'HR4', 'e_HR4']\n",
    "xmm_bands = dict(zip(list(\"1234589\"),[(0.2,0.5),(0.5,1.0),(1.0,2.0),(2.0,4.5),(4.5,12.0),(0.2,12.0),(0.5,4.5)]))\n",
    "\n",
    "XRT_sources = XRT_xmatch[0][\"_q\",'_2SXPS', 'CR0', 'E_CR0', 'e_CR0', 'HR1', 'HR2', 'CR1',\n",
    "       'e_CR1', 'CR2', 'E_CR2', 'e_CR2', 'CR3', 'E_CR3', 'e_CR3', 'PcstS0',\n",
    "       'FPO0', 'FPU0', 'Gam1', 'E_Gam1', 'e_Gam1']"
   ]
  },
  {
   "cell_type": "markdown",
   "metadata": {},
   "source": [
    "### WISE and 2MASS"
   ]
  },
  {
   "cell_type": "code",
   "execution_count": 206,
   "metadata": {},
   "outputs": [],
   "source": [
    "Twomass_xmatch = v.query_region(BeSS, catalog=\"II/246/out\", radius=\"0.5s\")\n",
    "Catwise_xmatch = v.query_region(BeSS, catalog=\"II/365/catwise\", radius=\"0.5s\")\n",
    "Allwise_xmatch = v.query_region(BeSS, catalog=\"II/328/allwise\", radius=\"0.5s\")\n",
    "Unwise_xmatch = v.query_region(BeSS, catalog=\"II/363/unwise\", radius=\"0.5s\")"
   ]
  },
  {
   "cell_type": "code",
   "execution_count": 207,
   "metadata": {},
   "outputs": [],
   "source": [
    "twomass = Twomass_xmatch[0].to_pandas()\n",
    "catwise = Catwise_xmatch[0].to_pandas()\n",
    "allwise = Allwise_xmatch[0].to_pandas()\n",
    "unwise = Unwise_xmatch[0].to_pandas()"
   ]
  },
  {
   "cell_type": "code",
   "execution_count": 12,
   "metadata": {
    "scrolled": true
   },
   "outputs": [
    {
     "data": {
      "image/png": "[encoded data removed]",
      "text/plain": [
       "<Figure size 432x288 with 1 Axes>"
      ]
     },
     "metadata": {
      "needs_background": "light"
     },
     "output_type": "display_data"
    },
    {
     "data": {
      "image/png": "[encoded data removed]",
      "text/plain": [
       "<Figure size 432x288 with 1 Axes>"
      ]
     },
     "metadata": {
      "needs_background": "light"
     },
     "output_type": "display_data"
    },
    {
     "data": {
      "image/png": "[encoded data removed]",
      "text/plain": [
       "<Figure size 432x288 with 1 Axes>"
      ]
     },
     "metadata": {
      "needs_background": "light"
     },
     "output_type": "display_data"
    },
    {
     "data": {
      "image/png": "[encoded data removed]",
      "text/plain": [
       "<Figure size 432x288 with 1 Axes>"
      ]
     },
     "metadata": {
      "needs_background": "light"
     },
     "output_type": "display_data"
    }
   ],
   "source": [
    "plt.hist(twomass[\"_r\"],bins=120,histtype=\"step\")\n",
    "#plt.vlines(1,0,100,color=\"k\",linestyle=\"--\")\n",
    "#plt.xlim(-1,2)\n",
    "plt.xlabel(\"$r$ [arcseconds]\")\n",
    "plt.ylabel(\"$N$\")\n",
    "plt.title(\"2MASS/BeSS distance histogram\")\n",
    "plt.show()\n",
    "\n",
    "plt.hist(catwise[\"_r\"],bins=120,histtype=\"step\")\n",
    "#plt.vlines(1,0,1750,color=\"k\",linestyle=\"--\")\n",
    "#plt.xlim(-1,40)\n",
    "plt.xlabel(\"$r$ [arcseconds]\")\n",
    "plt.ylabel(\"$N$\")\n",
    "plt.title(\"CATWISE (2020)/BeSS distance histogram\")\n",
    "plt.show()\n",
    "\n",
    "plt.hist(allwise[\"_r\"],bins=100,histtype=\"step\")\n",
    "#plt.vlines(1,0,1650,color=\"k\",linestyle=\"--\")\n",
    "#plt.xlim(0,1)\n",
    "plt.xlabel(\"$r$ [arcseconds]\")\n",
    "plt.ylabel(\"$N$\")\n",
    "plt.title(\"AllWISE/BeSS distance histogram\")\n",
    "plt.show()\n",
    "\n",
    "plt.hist(unwise[\"_r\"],bins=100,histtype=\"step\")\n",
    "#plt.vlines(1,0,1650,color=\"k\",linestyle=\"--\")\n",
    "#plt.xlim(-1,40)\n",
    "plt.xlabel(\"$r$ [arcseconds]\")\n",
    "plt.ylabel(\"$N$\")\n",
    "plt.title(\"UnWISE/BeSS distance histogram\")\n",
    "plt.show()"
   ]
  },
  {
   "cell_type": "markdown",
   "metadata": {},
   "source": [
    "#### Filter WISE stuff"
   ]
  },
  {
   "cell_type": "code",
   "execution_count": 208,
   "metadata": {},
   "outputs": [
    {
     "name": "stderr",
     "output_type": "stream",
     "text": [
      "C:\\Users\\Caden Gobat\\Documents\\GitHub\\Be-star-binaries\\uncertainties.py:201: RuntimeWarning: divide by zero encountered in log10\n",
      "  result = np.log10(self.value)\n",
      "C:\\Users\\Caden Gobat\\Documents\\GitHub\\Be-star-binaries\\uncertainties.py:202: RuntimeWarning: invalid value encountered in double_scalars\n",
      "  pos = self.plus/(self.value*np.log(10))\n",
      "C:\\Users\\Caden Gobat\\Documents\\GitHub\\Be-star-binaries\\uncertainties.py:203: RuntimeWarning: invalid value encountered in double_scalars\n",
      "  neg = self.minus/(self.value*np.log(10))\n",
      "C:\\Users\\Caden Gobat\\Documents\\GitHub\\Be-star-binaries\\uncertainties.py:43: RuntimeWarning: invalid value encountered in double_scalars\n",
      "  self.sign = self.value/np.abs(self.value) if self.value != 0 else 1\n",
      "<ipython-input-208-9b6de50a5faf>:20: RuntimeWarning: invalid value encountered in log10\n",
      "  w1 = 22.5 - 2.5*np.log10(FW1) - 0.004\n",
      "C:\\Users\\Caden Gobat\\Documents\\GitHub\\Be-star-binaries\\uncertainties.py:201: RuntimeWarning: divide by zero encountered in log10\n",
      "  result = np.log10(self.value)\n",
      "C:\\Users\\Caden Gobat\\Documents\\GitHub\\Be-star-binaries\\uncertainties.py:202: RuntimeWarning: invalid value encountered in double_scalars\n",
      "  pos = self.plus/(self.value*np.log(10))\n",
      "C:\\Users\\Caden Gobat\\Documents\\GitHub\\Be-star-binaries\\uncertainties.py:203: RuntimeWarning: invalid value encountered in double_scalars\n",
      "  neg = self.minus/(self.value*np.log(10))\n",
      "C:\\Users\\Caden Gobat\\Documents\\GitHub\\Be-star-binaries\\uncertainties.py:43: RuntimeWarning: invalid value encountered in double_scalars\n",
      "  self.sign = self.value/np.abs(self.value) if self.value != 0 else 1\n",
      "<ipython-input-208-9b6de50a5faf>:20: RuntimeWarning: invalid value encountered in log10\n",
      "  w1 = 22.5 - 2.5*np.log10(FW1) - 0.004\n",
      "C:\\Users\\Caden Gobat\\Documents\\GitHub\\Be-star-binaries\\uncertainties.py:201: RuntimeWarning: divide by zero encountered in log10\n",
      "  result = np.log10(self.value)\n",
      "C:\\Users\\Caden Gobat\\Documents\\GitHub\\Be-star-binaries\\uncertainties.py:202: RuntimeWarning: invalid value encountered in double_scalars\n",
      "  pos = self.plus/(self.value*np.log(10))\n",
      "C:\\Users\\Caden Gobat\\Documents\\GitHub\\Be-star-binaries\\uncertainties.py:203: RuntimeWarning: invalid value encountered in double_scalars\n",
      "  neg = self.minus/(self.value*np.log(10))\n",
      "C:\\Users\\Caden Gobat\\Documents\\GitHub\\Be-star-binaries\\uncertainties.py:43: RuntimeWarning: invalid value encountered in double_scalars\n",
      "  self.sign = self.value/np.abs(self.value) if self.value != 0 else 1\n",
      "<ipython-input-208-9b6de50a5faf>:21: RuntimeWarning: invalid value encountered in log10\n",
      "  w2 = 22.5 - 2.5*np.log10(FW2) - 0.032\n",
      "C:\\Users\\Caden Gobat\\Documents\\GitHub\\Be-star-binaries\\uncertainties.py:201: RuntimeWarning: divide by zero encountered in log10\n",
      "  result = np.log10(self.value)\n",
      "C:\\Users\\Caden Gobat\\Documents\\GitHub\\Be-star-binaries\\uncertainties.py:202: RuntimeWarning: invalid value encountered in double_scalars\n",
      "  pos = self.plus/(self.value*np.log(10))\n",
      "C:\\Users\\Caden Gobat\\Documents\\GitHub\\Be-star-binaries\\uncertainties.py:203: RuntimeWarning: invalid value encountered in double_scalars\n",
      "  neg = self.minus/(self.value*np.log(10))\n",
      "C:\\Users\\Caden Gobat\\Documents\\GitHub\\Be-star-binaries\\uncertainties.py:43: RuntimeWarning: invalid value encountered in double_scalars\n",
      "  self.sign = self.value/np.abs(self.value) if self.value != 0 else 1\n",
      "<ipython-input-208-9b6de50a5faf>:20: RuntimeWarning: invalid value encountered in log10\n",
      "  w1 = 22.5 - 2.5*np.log10(FW1) - 0.004\n",
      "C:\\Users\\Caden Gobat\\Documents\\GitHub\\Be-star-binaries\\uncertainties.py:201: RuntimeWarning: divide by zero encountered in log10\n",
      "  result = np.log10(self.value)\n",
      "C:\\Users\\Caden Gobat\\Documents\\GitHub\\Be-star-binaries\\uncertainties.py:202: RuntimeWarning: invalid value encountered in double_scalars\n",
      "  pos = self.plus/(self.value*np.log(10))\n",
      "C:\\Users\\Caden Gobat\\Documents\\GitHub\\Be-star-binaries\\uncertainties.py:203: RuntimeWarning: invalid value encountered in double_scalars\n",
      "  neg = self.minus/(self.value*np.log(10))\n",
      "C:\\Users\\Caden Gobat\\Documents\\GitHub\\Be-star-binaries\\uncertainties.py:43: RuntimeWarning: invalid value encountered in double_scalars\n",
      "  self.sign = self.value/np.abs(self.value) if self.value != 0 else 1\n",
      "<ipython-input-208-9b6de50a5faf>:20: RuntimeWarning: invalid value encountered in log10\n",
      "  w1 = 22.5 - 2.5*np.log10(FW1) - 0.004\n",
      "C:\\Users\\Caden Gobat\\Documents\\GitHub\\Be-star-binaries\\uncertainties.py:201: RuntimeWarning: divide by zero encountered in log10\n",
      "  result = np.log10(self.value)\n",
      "C:\\Users\\Caden Gobat\\Documents\\GitHub\\Be-star-binaries\\uncertainties.py:202: RuntimeWarning: invalid value encountered in double_scalars\n",
      "  pos = self.plus/(self.value*np.log(10))\n",
      "C:\\Users\\Caden Gobat\\Documents\\GitHub\\Be-star-binaries\\uncertainties.py:203: RuntimeWarning: invalid value encountered in double_scalars\n",
      "  neg = self.minus/(self.value*np.log(10))\n",
      "C:\\Users\\Caden Gobat\\Documents\\GitHub\\Be-star-binaries\\uncertainties.py:43: RuntimeWarning: invalid value encountered in double_scalars\n",
      "  self.sign = self.value/np.abs(self.value) if self.value != 0 else 1\n",
      "<ipython-input-208-9b6de50a5faf>:20: RuntimeWarning: invalid value encountered in log10\n",
      "  w1 = 22.5 - 2.5*np.log10(FW1) - 0.004\n",
      "C:\\Users\\Caden Gobat\\Documents\\GitHub\\Be-star-binaries\\uncertainties.py:201: RuntimeWarning: divide by zero encountered in log10\n",
      "  result = np.log10(self.value)\n",
      "C:\\Users\\Caden Gobat\\Documents\\GitHub\\Be-star-binaries\\uncertainties.py:202: RuntimeWarning: invalid value encountered in double_scalars\n",
      "  pos = self.plus/(self.value*np.log(10))\n",
      "C:\\Users\\Caden Gobat\\Documents\\GitHub\\Be-star-binaries\\uncertainties.py:203: RuntimeWarning: invalid value encountered in double_scalars\n",
      "  neg = self.minus/(self.value*np.log(10))\n",
      "C:\\Users\\Caden Gobat\\Documents\\GitHub\\Be-star-binaries\\uncertainties.py:43: RuntimeWarning: invalid value encountered in double_scalars\n",
      "  self.sign = self.value/np.abs(self.value) if self.value != 0 else 1\n",
      "<ipython-input-208-9b6de50a5faf>:21: RuntimeWarning: invalid value encountered in log10\n",
      "  w2 = 22.5 - 2.5*np.log10(FW2) - 0.032\n",
      "C:\\Users\\Caden Gobat\\Documents\\GitHub\\Be-star-binaries\\uncertainties.py:201: RuntimeWarning: divide by zero encountered in log10\n",
      "  result = np.log10(self.value)\n",
      "C:\\Users\\Caden Gobat\\Documents\\GitHub\\Be-star-binaries\\uncertainties.py:202: RuntimeWarning: invalid value encountered in double_scalars\n",
      "  pos = self.plus/(self.value*np.log(10))\n",
      "C:\\Users\\Caden Gobat\\Documents\\GitHub\\Be-star-binaries\\uncertainties.py:203: RuntimeWarning: invalid value encountered in double_scalars\n",
      "  neg = self.minus/(self.value*np.log(10))\n",
      "C:\\Users\\Caden Gobat\\Documents\\GitHub\\Be-star-binaries\\uncertainties.py:43: RuntimeWarning: invalid value encountered in double_scalars\n",
      "  self.sign = self.value/np.abs(self.value) if self.value != 0 else 1\n",
      "<ipython-input-208-9b6de50a5faf>:21: RuntimeWarning: invalid value encountered in log10\n",
      "  w2 = 22.5 - 2.5*np.log10(FW2) - 0.032\n",
      "C:\\Users\\Caden Gobat\\Documents\\GitHub\\Be-star-binaries\\uncertainties.py:201: RuntimeWarning: divide by zero encountered in log10\n",
      "  result = np.log10(self.value)\n",
      "C:\\Users\\Caden Gobat\\Documents\\GitHub\\Be-star-binaries\\uncertainties.py:202: RuntimeWarning: invalid value encountered in double_scalars\n",
      "  pos = self.plus/(self.value*np.log(10))\n",
      "C:\\Users\\Caden Gobat\\Documents\\GitHub\\Be-star-binaries\\uncertainties.py:203: RuntimeWarning: invalid value encountered in double_scalars\n",
      "  neg = self.minus/(self.value*np.log(10))\n",
      "C:\\Users\\Caden Gobat\\Documents\\GitHub\\Be-star-binaries\\uncertainties.py:43: RuntimeWarning: invalid value encountered in double_scalars\n",
      "  self.sign = self.value/np.abs(self.value) if self.value != 0 else 1\n",
      "<ipython-input-208-9b6de50a5faf>:20: RuntimeWarning: invalid value encountered in log10\n",
      "  w1 = 22.5 - 2.5*np.log10(FW1) - 0.004\n"
     ]
    }
   ],
   "source": [
    "wise = pd.DataFrame(columns=[\"_q\",\"W1\",\"e_W1\",\"W2\",\"e_W2\",\"W3\",\"e_W3\",\"W4\",\"e_W4\"])\n",
    "for q in BeSS[\"#\"]:\n",
    "    \n",
    "    W1 = W2 = W3 = W4 = np.nan\n",
    "    e_W1 = e_W2 = e_W3 = e_W4 = np.nan\n",
    "    \n",
    "    if (catwise[\"_q\"] == q).any():\n",
    "        W1 = catwise.loc[catwise[\"_q\"]==q, \"W1mproPM\"].values[0]\n",
    "        e_W1 = catwise.loc[catwise[\"_q\"]==q, \"e_W1mproPM\"].values[0]\n",
    "        W2 = catwise.loc[catwise[\"_q\"]==q, \"W2mproPM\"].values[0]\n",
    "        e_W2 = catwise.loc[catwise[\"_q\"]==q, \"e_W2mproPM\"].values[0]\n",
    "        \n",
    "    elif (unwise[\"_q\"] == q).any():\n",
    "        fw1 = unwise.loc[unwise[\"_q\"]==q, \"FW1\"].values[0]\n",
    "        e_fw1 = unwise.loc[unwise[\"_q\"]==q, \"e_FW1\"].values[0]\n",
    "        FW1 = AsymmetricUncertainty(fw1,e_fw1,e_fw1)\n",
    "        fw2 = unwise.loc[unwise[\"_q\"]==q, \"FW2\"].values[0]\n",
    "        e_fw2 = unwise.loc[unwise[\"_q\"]==q, \"e_FW2\"].values[0]\n",
    "        FW2 = AsymmetricUncertainty(fw2,e_fw2,e_fw2)\n",
    "        w1 = 22.5 - 2.5*np.log10(FW1) - 0.004\n",
    "        w2 = 22.5 - 2.5*np.log10(FW2) - 0.032\n",
    "        W1 = w1.value\n",
    "        e_W1 = w1.plus\n",
    "        W2 = w2.value\n",
    "        e_W2 = w2.plus\n",
    "    \n",
    "    if (allwise[\"_q\"] == q).any():\n",
    "        if pd.isna(W1):\n",
    "            W1 = allwise.loc[allwise[\"_q\"]==q, \"W1mag\"].values[0]\n",
    "            e_W1 = allwise.loc[allwise[\"_q\"]==q, \"e_W1mag\"].values[0]\n",
    "        if pd.isna(W2):\n",
    "            W2 = allwise.loc[allwise[\"_q\"]==q, \"W2mag\"].values[0]\n",
    "            e_W2 = allwise.loc[allwise[\"_q\"]==q, \"e_W2mag\"].values[0]\n",
    "        W3 = allwise.loc[allwise[\"_q\"]==q, \"W3mag\"].values[0]\n",
    "        e_W3 = allwise.loc[allwise[\"_q\"]==q, \"e_W3mag\"].values[0]\n",
    "        W4 = allwise.loc[allwise[\"_q\"]==q, \"W4mag\"].values[0]\n",
    "        e_W4 = allwise.loc[allwise[\"_q\"]==q, \"e_W4mag\"].values[0]\n",
    "        \n",
    "    wise = wise.append(dict(zip(wise.columns, [q,W1,e_W1,W2,e_W2,W3,e_W3,W4,e_W4])), ignore_index=True)"
   ]
  },
  {
   "cell_type": "markdown",
   "metadata": {},
   "source": [
    "### Compile a master catalog"
   ]
  },
  {
   "cell_type": "code",
   "execution_count": 209,
   "metadata": {},
   "outputs": [],
   "source": [
    "objs = pd.merge(wise, twomass_xmatch[0][['_q',\"Jmag\",\"e_Jmag\",\"Hmag\",\"e_Hmag\",\"Kmag\",\"e_Kmag\"]].to_pandas(), on=\"_q\", how=\"outer\")\n",
    "objs = pd.merge(gaia, objs, on=\"_q\", how=\"outer\")\n",
    "xray = pd.merge(XMM_sources.to_pandas(), Chandra_sources.to_pandas(), on=\"_q\", how=\"outer\")\n",
    "xray = pd.merge(xray, XRT_sources.to_pandas(), on=\"_q\", how=\"outer\")\n",
    "\n",
    "master = pd.merge(BeSS.to_pandas(), pd.merge(objs, xray, on=\"_q\", how=\"outer\"), left_on=\"#\", right_on=\"_q\", how=\"outer\")\n",
    "master.rename(columns={\"HR1_x\":\"HR1\",\"HR2_x\":\"HR2\",\"HR1_y\":\"SwiftHR1\",\"HR2_y\":\"SwiftHR2\"},inplace=True)"
   ]
  },
  {
   "cell_type": "markdown",
   "metadata": {},
   "source": [
    "### Solve for individual-band Swift fluxes"
   ]
  },
  {
   "cell_type": "code",
   "execution_count": 210,
   "metadata": {},
   "outputs": [],
   "source": [
    "for i in master[master[\"_2SXPS\"].notna()].index:\n",
    "    # knowns\n",
    "    SwiftHR1 = master.loc[i,\"SwiftHR1\"]\n",
    "    SwiftHR2 = master.loc[i,\"SwiftHR2\"]\n",
    "    SwiftFlux = master.loc[i,\"FPO0\"]\n",
    "\n",
    "    # unknowns\n",
    "    F0,F1,F2 = sympy.symbols(\"F_s, F_m, F_h\")\n",
    "    \n",
    "    # equations\n",
    "    fluxsum = sympy.Eq(F0+F1+F2, SwiftFlux)\n",
    "    hr1 = sympy.Eq((F1-F0)/(F1+F0), SwiftHR1)\n",
    "    hr2 = sympy.Eq((F2-F1)/(F2+F1), SwiftHR2)\n",
    "    \n",
    "    # solution\n",
    "    solution = sympy.solve((fluxsum,hr1,hr2), (F0,F1,F2))\n",
    "    master.loc[i,\"XRTsoft\"] = float(solution[F0])\n",
    "    master.loc[i,\"XRTmed\"] = float(solution[F1])\n",
    "    master.loc[i,\"XRThard\"] = float(solution[F2])"
   ]
  },
  {
   "cell_type": "code",
   "execution_count": 211,
   "metadata": {},
   "outputs": [],
   "source": [
    "def infer_gamma(HR,freq1a,freq1b,freq2a,freq2b):\n",
    "    #G = sympy.var(\"Gamma\")\n",
    "    #hr_eq = sympy.Eq(((freq2b**(2-G) - freq2a**(2-G)) - (freq1b**(2-G) - freq1a**(2-G)))/((freq2b**(2-G) - freq2a**(2-G)) + (freq1b**(2-G) - freq1a**(2-G))), HR)\n",
    "    hr_func = lambda G : -HR + ((freq2b**(2-G) - freq2a**(2-G)) - (freq1b**(2-G) - freq1a**(2-G)))/((freq2b**(2-G) - freq2a**(2-G)) + (freq1b**(2-G) - freq1a**(2-G)))\n",
    "    solution = optimize.fsolve(hr_func, 1) #sympy.solve(hr_eq, G)\n",
    "    return solution"
   ]
  },
  {
   "cell_type": "markdown",
   "metadata": {},
   "source": [
    "### Flux band conversions"
   ]
  },
  {
   "cell_type": "code",
   "execution_count": 212,
   "metadata": {},
   "outputs": [],
   "source": [
    "CSC_fluxs = ['Fluxh', 'Fluxm', 'Fluxs']\n",
    "XMM_fluxs = ['Flux1', 'Flux2', 'Flux3', 'Flux4', 'Flux5']\n",
    "XRT_fluxs = ['XRTsoft', 'XRTmed', 'XRThard']"
   ]
  },
  {
   "cell_type": "code",
   "execution_count": 213,
   "metadata": {},
   "outputs": [],
   "source": [
    "for i in master[master[\"_2CXO\"].notna() | master[\"_4XMM\"].notna() | master[\"_2SXPS\"].notna()].index:\n",
    "    cxoflux, xmmflux, xrtflux = master.loc[i,CSC_fluxs].values, master.loc[i,XMM_fluxs].values, master.loc[i,XRT_fluxs].values\n",
    "    exists = False\n",
    "    if pd.notna(master.loc[i,\"GamPL\"]): # spectral index from Chandra\n",
    "        Gamma = float(master.loc[i,\"GamPL\"])\n",
    "        exists = True\n",
    "    elif pd.notna(master.loc[i,\"Gam1\"]): # spectral index from Swift\n",
    "        Gamma = float(master.loc[i,\"Gam1\"])\n",
    "        exists = True\n",
    "    else: # assume flat spectrum for general case\n",
    "        Gamma = 2\n",
    "    if all(pd.notna(cxoflux)): # good Chandra observations present\n",
    "        if Gamma != 2:\n",
    "            coefs = np.array([(1**(2.-Gamma)-0.3**(2.-Gamma))/(1.2**(2.-Gamma)-0.5**(2.-Gamma)),\n",
    "                          (2**(2.-Gamma)-1**(2.-Gamma))/(2.**(2.-Gamma)-1.2**(2.-Gamma)),\n",
    "                          (10**(2.-Gamma)-2**(2.-Gamma))/(7**(2.-Gamma)-2**(2.-Gamma))])\n",
    "        else:\n",
    "            coefs = np.array([(np.log(1)-np.log(0.3))/(np.log(1.2)-np.log(0.5)),\n",
    "                              (np.log(2)-np.log(1))/(np.log(2.0)-np.log(1.2)),\n",
    "                              (np.log(10)-np.log(2))/(np.log(7)-np.log(2))])\n",
    "        converted = cxoflux * coefs\n",
    "        source = \"CXO\"\n",
    "    elif all(pd.notna(xmmflux)): # no Chandra, but good XMM\n",
    "        mergedxmm = np.array([xmmflux[0]+xmmflux[1], xmmflux[2], xmmflux[3]+xmmflux[4]])\n",
    "        if Gamma != 2:\n",
    "            coefs = np.array([(1**(2.-Gamma)-0.3**(2.-Gamma))/(1**(2.-Gamma)-0.2**(2.-Gamma)),\n",
    "                          1, (10**(2.-Gamma)-2**(2.-Gamma))/(12**(2.-Gamma)-2**(2.-Gamma))])\n",
    "        else:\n",
    "            coefs = np.array([(np.log(1)-np.log(0.3))/(np.log(1)-np.log(0.2)),\n",
    "                              1, (np.log(10)-np.log(2))/(np.log(12)-np.log(2))])\n",
    "        converted = mergedxmm * coefs\n",
    "        source = \"XMM\"\n",
    "    elif all(pd.notna(xrtflux)): # neither Chandra nor XMM, but good Swift-XRT\n",
    "        converted = xrtflux\n",
    "        source = \"XRT\"\n",
    "    else:\n",
    "        continue\n",
    "    \n",
    "    master.loc[i,\"Flux (0.3-1 keV)\"] = converted[0]\n",
    "    master.loc[i,\"Flux (1-2 keV)\"] = converted[1]\n",
    "    master.loc[i,\"Flux (2-10 keV)\"] = converted[2]\n",
    "    master.loc[i,\"X-ray source\"] = source\n",
    "    if exists:\n",
    "        master.loc[i,\"Gamma\"] = Gamma"
   ]
  },
  {
   "cell_type": "code",
   "execution_count": 215,
   "metadata": {},
   "outputs": [],
   "source": [
    "master[\"vsini\"] = master[\"vsini\"].apply(pd.to_numeric, errors=\"coerce\")\n",
    "master[\"HR1\"] = (master[\"Flux (1-2 keV)\"]-master[\"Flux (0.3-1 keV)\"])/(master[\"Flux (1-2 keV)\"]+master[\"Flux (0.3-1 keV)\"])\n",
    "master[\"HR2\"] = (master[\"Flux (2-10 keV)\"]-master[\"Flux (1-2 keV)\"])/(master[\"Flux (1-2 keV)\"]+master[\"Flux (2-10 keV)\"])\n",
    "\n",
    "master[master[\"X-ray source\"].notna()].drop(['Category', 'RA', 'DEC', 'Nb of spectra in BeSS', '_q',\n",
    "                                             'rgeo', 'b_rgeo', 'B_rgeo', '_4XMM', 'Flux1', 'e_Flux1',\n",
    "                                             'Flux2', 'e_Flux2', 'Flux3', 'e_Flux3', 'Flux4', 'e_Flux4',\n",
    "                                             'Flux5', 'e_Flux5', 'Flux8', 'e_Flux8', 'Flux9', 'e_Flux9', 'e_HR1',\n",
    "                                             'e_HR2', 'HR3', 'e_HR3', 'HR4', 'e_HR4', '_2CXO',\n",
    "                                             'Fluxb', 'Fluxh', 'Fluxm', 'Fluxs', 'Fluxu', 'Fluxw', 'HRhm',\n",
    "                                             'HRhs', 'HRms', 'GamPL', '_2SXPS', 'CR0', 'E_CR0', 'e_CR0', 'SwiftHR1',\n",
    "                                             'SwiftHR2', 'CR1', 'e_CR1', 'CR2', 'E_CR2', 'e_CR2', 'CR3', 'E_CR3',\n",
    "                                             'e_CR3', 'PcstS0', 'FPO0', 'FPU0', 'Gam1', 'E_Gam1', 'e_Gam1',\n",
    "                                             'XRTsoft', 'XRTmed', 'XRThard'],\n",
    "                                            axis=1).rename(columns={'_RAJ2000':\"RA\", '_DEJ2000':\"Dec\",\n",
    "                                                                    \"NHPL\":\"N_H\",\"V\":\"Vmag\"})"
   ]
  },
  {
   "cell_type": "code",
   "execution_count": null,
   "metadata": {
    "tags": []
   },
   "outputs": [],
   "source": [
    "for i in master.index:\n",
    "    flags = []\n",
    "    if pd.notna(master.loc[i,\"Be star\"]):\n",
    "        flags.append(\"BeSS\")\n",
    "    if pd.notna(master.loc[i,\"EDR3Name\"]):\n",
    "        flags.append(\"Gaia\")\n",
    "#     if pd.notna(master.loc[i,\"Name\"]):\n",
    "#         flags.append(\"HMXB\")\n",
    "    if pd.notna(master.loc[i,\"_4XMM\"]):\n",
    "        flags.append(\"XMM\")\n",
    "    if pd.notna(master.loc[i,\"_2CXO\"]):\n",
    "        flags.append(\"Chandra\")\n",
    "    master.loc[i,\"Memberships\"] = \",\".join(flags)"
   ]
  },
  {
   "cell_type": "code",
   "execution_count": 217,
   "metadata": {},
   "outputs": [
    {
     "data": {
      "text/plain": [
       "Text(0.5, 1.0, 'Color-magnitude diagram of Gaia-matched Be stars')"
      ]
     },
     "execution_count": 217,
     "metadata": {},
     "output_type": "execute_result"
    },
    {
     "data": {
      "image/png": "[encoded data removed]",
      "text/plain": [
       "<Figure size 504x504 with 1 Axes>"
      ]
     },
     "metadata": {
      "needs_background": "light"
     },
     "output_type": "display_data"
    }
   ],
   "source": [
    "plt.figure(figsize=(7,7))\n",
    "plt.scatter(master[\"BPmag\"]-master[\"RPmag\"], master[\"Gmag\"]-5*np.log10(master[\"rpgeo\"]/10),marker=\".\")\n",
    "plt.ylim(16,-7)\n",
    "plt.xlim(-1,5)\n",
    "plt.vlines([-0.4769230769230768,-0.03076923076923066],-10,20) # WebPlotDigitized bounds of B type from Gaia HR diagram\n",
    "plt.xlabel(\"$\\mathrm{G}_\\mathrm{BP}-\\mathrm{G}_\\mathrm{RP}$\")\n",
    "plt.ylabel(\"$\\mathrm{M}_\\mathrm{G}$\")\n",
    "plt.title(\"Color-magnitude diagram of Gaia-matched Be stars\")"
   ]
  },
  {
   "cell_type": "code",
   "execution_count": 220,
   "metadata": {},
   "outputs": [],
   "source": [
    "# XDBS = pd.read_csv(\"./XDBS_catalog.csv\")"
   ]
  },
  {
   "cell_type": "code",
   "execution_count": 219,
   "metadata": {},
   "outputs": [],
   "source": [
    "# XDBS.to_csv(\"./XDBS_catalog.csv\",index=False)"
   ]
  },
  {
   "cell_type": "code",
   "execution_count": null,
   "metadata": {},
   "outputs": [],
   "source": []
  }
 ],
 "metadata": {
  "hide_input": false,
  "kernelspec": {
   "display_name": "Python 3",
   "language": "python",
   "name": "python3"
  },
  "language_info": {
   "codemirror_mode": {
    "name": "ipython",
    "version": 3
   },
   "file_extension": ".py",
   "mimetype": "text/x-python",
   "name": "python",
   "nbconvert_exporter": "python",
   "pygments_lexer": "ipython3",
   "version": "3.8.6"
  },
  "latex_envs": {
   "LaTeX_envs_menu_present": true,
   "autoclose": true,
   "autocomplete": true,
   "bibliofile": "biblio.bib",
   "cite_by": "apalike",
   "current_citInitial": 1,
   "eqLabelWithNumbers": true,
   "eqNumInitial": 1,
   "hotkeys": {
    "equation": "Ctrl-E",
    "itemize": "Ctrl-I"
   },
   "labels_anchors": false,
   "latex_user_defs": false,
   "report_style_numbering": false,
   "user_envs_cfg": false
  },
  "toc": {
   "base_numbering": 1,
   "nav_menu": {},
   "number_sections": true,
   "sideBar": true,
   "skip_h1_title": false,
   "title_cell": "Table of Contents",
   "title_sidebar": "Contents",
   "toc_cell": false,
   "toc_position": {},
   "toc_section_display": true,
   "toc_window_display": false
  },
  "varInspector": {
   "cols": {
    "lenName": 16,
    "lenType": 16,
    "lenVar": 40
   },
   "kernels_config": {
    "python": {
     "delete_cmd_postfix": "",
     "delete_cmd_prefix": "del ",
     "library": "var_list.py",
     "varRefreshCmd": "print(var_dic_list())"
    },
    "r": {
     "delete_cmd_postfix": ") ",
     "delete_cmd_prefix": "rm(",
     "library": "var_list.r",
     "varRefreshCmd": "cat(var_dic_list()) "
    }
   },
   "types_to_exclude": [
    "module",
    "function",
    "builtin_function_or_method",
    "instance",
    "_Feature"
   ],
   "window_display": false
  }
 },
 "nbformat": 4,
 "nbformat_minor": 2
}
